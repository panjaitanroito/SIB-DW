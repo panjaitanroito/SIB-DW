{
  "nbformat": 4,
  "nbformat_minor": 0,
  "metadata": {
    "colab": {
      "provenance": []
    },
    "kernelspec": {
      "name": "python3",
      "display_name": "Python 3"
    },
    "language_info": {
      "name": "python"
    }
  },
  "cells": [
    {
      "cell_type": "markdown",
      "source": [
        "#Datawarehouse kelompok 14 Project python part 3\n",
        "# Anggota Kelompok :\n",
        "#Afriani\n",
        "#Megawati Roito Panjaitan\n",
        "#Rizky Mijka Edelweis\n",
        "#Novitasari\n",
        "#Raka Ksatria Sumantoro\n",
        "\n",
        "          "
      ],
      "metadata": {
        "id": "stGYZbYbSzlr"
      }
    },
    {
      "cell_type": "markdown",
      "source": [
        "# Task 1: Basic OOP\n",
        "# Buatlah class MarketingDataETL yang memiliki tiga metode:\n",
        "\n",
        "\n"
      ],
      "metadata": {
        "id": "Ej222nWuS78o"
      }
    },
    {
      "cell_type": "markdown",
      "source": [
        "\n",
        "* extract(): akan membaca data dari sebuah file CSV (Misalkan, marketing_data.csv)   \n",
        "* transform(): akan melakukan pembersihan dan transformasi sederhana pada data (seperti mengubah format tanggal atau membersihkan nilai yang kosong)\n",
        "*   store(): akan menyimpan data yang telah ditransformasi ke dalam struktur data DataFramet.\n",
        "\n",
        "\n",
        "\n",
        "\n",
        "\n",
        "\n",
        "\n",
        "\n"
      ],
      "metadata": {
        "id": "zT5iWTH3TE6b"
      }
    },
    {
      "cell_type": "code",
      "source": [
        "import pandas as pd\n",
        "from google.colab import drive\n",
        "\n",
        "# Menghubungkan dengan Google Drive\n",
        "drive.mount('/content/drive')\n",
        "\n",
        "class MarketingDataETL:\n",
        "    def __init__(self, file_path):\n",
        "        self.file_path = file_path\n",
        "        self.data = None\n",
        "\n",
        "    def extract(self): # akan membaca data dari sebuah file CSV yaitu, marketing_data.csv\n",
        "        try:\n",
        "            self.data = pd.read_csv(self.file_path, sep = ';')\n",
        "            print(\"Data di file CSV berhasil diekstrak\")\n",
        "        except Exception as e:\n",
        "            print(\"Gagal melakukan ekstrak data:\", str(e))\n",
        "\n",
        "    def clean(self):\n",
        "        if self.data is not None:\n",
        "            try:\n",
        "                self.data.dropna(inplace=True) # Menghapus baris dengan nilai kosong\n",
        "                print(\"Data berhasil dibersihkan dari nilai kosong.\")\n",
        "            except Exception as e:\n",
        "                print(\"Gagal membersihkan data:\", str(e))\n",
        "        else:\n",
        "            print(\"Tidak ada data untuk dibersihkan.\")\n",
        "\n",
        "    def transform(self):\n",
        "        # Melakukan transformasi sederhana, misalnya mengubah format tanggal\n",
        "        if self.data is not None:\n",
        "            try:\n",
        "                self.data['purchase_date'] = pd.to_datetime(self.data['purchase_date']) # Melakukan transformasi mengubah  kolom 'tanggal' menjadi tipe datetime\n",
        "                print(\"Data berhasil ditransformasi.\")\n",
        "            except Exception as e:\n",
        "                print(\"Gagal melakukan transformasi data:\", str(e))\n",
        "        else:\n",
        "            print(\"Tidak ada data untuk ditransformasi.\")\n",
        "\n",
        "    def store(self, output):\n",
        "        if self.data is not None:\n",
        "            try:\n",
        "                self.data.to_csv(output, index=False)\n",
        "                print(\"Data berhasil disimpan ke\", output)# menyimpan data yang telah ditransformasi ke dalam struktur data DataFrame, yaitu transform_marketing_data.csv\n",
        "            except Exception as e:\n",
        "                print(\"Gagal menyimpan data:\", str(e))\n",
        "        else:\n",
        "            print(\"Tidak ada data yang disimpan.\")\n",
        "\n",
        "# Path file di Google Drive\n",
        "file_path = '/content/drive/MyDrive/marketing_data.csv'\n",
        "output = \"/content/drive/MyDrive/transformed_marketing_data_finish.csv\"\n",
        "\n",
        "etl = MarketingDataETL(file_path)\n",
        "etl.extract()\n",
        "etl.clean()\n",
        "etl.transform()\n",
        "etl.store(output)"
      ],
      "metadata": {
        "id": "utr5toUchcy0",
        "colab": {
          "base_uri": "https://localhost:8080/"
        },
        "outputId": "9c3219cb-8e3f-486d-aaaa-78d2db62dad6"
      },
      "execution_count": 5,
      "outputs": [
        {
          "output_type": "stream",
          "name": "stdout",
          "text": [
            "Drive already mounted at /content/drive; to attempt to forcibly remount, call drive.mount(\"/content/drive\", force_remount=True).\n",
            "Data di file CSV berhasil diekstrak\n",
            "Data berhasil dibersihkan dari nilai kosong.\n",
            "Data berhasil ditransformasi.\n",
            "Data berhasil disimpan ke /content/drive/MyDrive/transformed_marketing_data_finish.csv\n"
          ]
        }
      ]
    },
    {
      "cell_type": "markdown",
      "source": [
        "# Task 2: Inheritance & Polymorphism\n"
      ],
      "metadata": {
        "id": "7rm6UpSwTdKf"
      }
    },
    {
      "cell_type": "markdown",
      "source": [
        "\n",
        "* Gunakan inheritance untuk membuat class TargetedMarketingETL yang mewarisi dari MarketingDataETL.\n",
        "* Tambahkan metode segment_customers() yang mengelompokkan pelanggan berdasarkan kriteria tertentu (misalnya, pengeluaran total atau kategori produk yang dibeli).\n",
        "* Demonstrasi polymorphism dengan meng-override metode transform() dalam TargetedMarketingETL untuk menambahkan logika segmentasi pelanggan ke dalam proses transformasi.\n",
        "\n",
        "\n",
        "\n",
        "\n",
        "\n",
        "\n"
      ],
      "metadata": {
        "id": "VI5DBWZJTm-V"
      }
    },
    {
      "cell_type": "code",
      "source": [
        "from google.colab import drive\n",
        "drive.mount('/content/drive')"
      ],
      "metadata": {
        "id": "uXpdjsEPgmIC",
        "colab": {
          "base_uri": "https://localhost:8080/"
        },
        "outputId": "acad3dc9-b3c2-48e0-acfa-49ffb844e4fd"
      },
      "execution_count": null,
      "outputs": [
        {
          "output_type": "stream",
          "name": "stdout",
          "text": [
            "Drive already mounted at /content/drive; to attempt to forcibly remount, call drive.mount(\"/content/drive\", force_remount=True).\n"
          ]
        }
      ]
    },
    {
      "cell_type": "code",
      "source": [
        "class MarketingDataETL():\n",
        "    def __init__(self, file_path):\n",
        "        self.file_path = file_path\n",
        "        self.data = None\n",
        "\n",
        "    def extract(self):\n",
        "        # Implementasi ekstraksi data dari file\n",
        "        try:\n",
        "            self.data = pd.read_csv(self.file_path, sep = ';')\n",
        "            print(\"Data di file CSV berhasil diekstrak\")\n",
        "        except Exception as e:\n",
        "            print(\"Gagal melakukan ekstrak data:\", str(e))\n",
        "\n",
        "    def transform(self):\n",
        "        # Implementasi transformasi data\n",
        "         if self.data is not None:\n",
        "            try:\n",
        "                self.data['purchase_date'] = pd.to_datetime(self.data['purchase_date']) # Melakukan transformasi mengubah  kolom 'tanggal' menjadi tipe datetime\n",
        "                print(\"Data berhasil ditransformasi.\")\n",
        "            except Exception as e:\n",
        "                print(\"Gagal melakukan transformasi data:\", str(e))\n",
        "\n",
        "\n",
        "\n",
        "class TargetedMarketingETL(MarketingDataETL):\n",
        "    def __init__(self, file_path):\n",
        "        super().__init__(file_path)\n",
        "\n",
        "    def extract(self):\n",
        "        # Implementasi ekstraksi data khusus\n",
        "       self.data = [\n",
        "            {'customer_id': 'C001', 'total_pembelian': 1200},\n",
        "            {'customer_id': 'C002', 'total_pembelian': 750},\n",
        "            {'customer_id': 'C003', 'total_pembelian': 350},\n",
        "            {'customer_id': 'C004', 'total_pembelian': 2050},\n",
        "            {'customer_id': 'C005', 'total_pembelian': 800},\n",
        "        ]\n",
        "\n",
        "    def segment_customers(self):\n",
        "        if self.data is not None:\n",
        "            try:\n",
        "                # Logika segmentasi pelanggan\n",
        "                total_spent_segments = {\n",
        "                    'Low Spender': self.data['amount_spent'] < 50,\n",
        "                    'Medium Spender': (self.data['amount_spent'] >= 50) & (self.data['amount_spent'] < 150),\n",
        "                    'High Spender': self.data['amount_spent'] >= 150\n",
        "                }\n",
        "\n",
        "                product_categories = [\n",
        "                    'Electronics',\n",
        "                    'Books',\n",
        "                    'Home & Garden',\n",
        "                    'Beauty'\n",
        "                ]\n",
        "\n",
        "                self.data['customer_segment'] = None\n",
        "\n",
        "                for segment_name, segment_condition in total_spent_segments.items():\n",
        "                    for category in product_categories:\n",
        "                        category_condition = self.data['product_category'] == category\n",
        "\n",
        "                        if category_condition.sum() > 0:\n",
        "                            customer_segment_condition = segment_condition & category_condition\n",
        "\n",
        "                            if customer_segment_condition.sum() > 0:\n",
        "                                self.data.loc[customer_segment_condition, 'customer_segment'] = f'{segment_name} - {category}'\n",
        "\n",
        "                print(\"Data telah dibagi menjadi grup customer sesuai dengan pengeluaran dan kategori produk.\")\n",
        "\n",
        "            except Exception as e:\n",
        "                print(\"Gagal melakukan pembagian grup customer:\", str(e))\n",
        "    def transform(self, data):\n",
        "        # Panggil metode transform dari kelas dasar untuk melakukan transformasi dasar\n",
        "        transformed_data = super().transform(data)\n",
        "\n",
        "        # Tambahkan logika segmentasi pelanggan di sini\n",
        "        for record in transformed_data:\n",
        "            # Logika segmentasi pelanggan\n",
        "            if record['total_pembelian'] > 1000:\n",
        "                record['segment'] = 'Premium'\n",
        "            else:\n",
        "                record['segment'] = 'Regular'\n",
        "\n",
        "        return transformed_data\n",
        "\n",
        "    def total_pembelian(self):\n",
        "        if self.data is not None:\n",
        "            total = sum(record['total_pembelian'] for record in self.data if 'total_pembelian' in record)\n",
        "            return total\n",
        "        else:\n",
        "            return 0\n",
        "\n",
        "from pprint import pprint\n",
        "\n",
        "data = [\n",
        "    {'customer_id': 'C001', 'total_pembelian': 1200, 'product_category': 'Electronics'},\n",
        "    {'customer_id': 'C002', 'total_pembelian': 750, 'product_category': 'Books'},\n",
        "    {'customer_id': 'C003', 'total_pembelian': 350, 'product_category': 'Home & Garden'},\n",
        "    {'customer_id': 'C004', 'total_pembelian': 2050,\n",
        "     'product_category': 'Electronics'},\n",
        "    {'customer_id': 'C005', 'total_pembelian': 800, 'product_category': 'Beauty'},\n",
        "]\n",
        "\n",
        "etl_process = TargetedMarketingETL(\"data_file.csv\")\n",
        "etl_process.extract()  # melakukan ekstraksi data khusus jika diperlukan\n",
        "etl_process.segment_customers()  # melakukan segmentasi pelanggan\n",
        "total_pembelian = etl_process.total_pembelian()\n",
        "print(\"Total Pembelian:\", total_pembelian)\n",
        "\n",
        "\n",
        "\n",
        "pprint(etl.data)"
      ],
      "metadata": {
        "id": "p8aAjECPtAx8",
        "colab": {
          "base_uri": "https://localhost:8080/"
        },
        "outputId": "abed13c0-e9d8-47e2-8b91-ee0ccffe8c25"
      },
      "execution_count": 6,
      "outputs": [
        {
          "output_type": "stream",
          "name": "stdout",
          "text": [
            "Gagal melakukan pembagian grup customer: list indices must be integers or slices, not str\n",
            "Total Pembelian: 5150\n",
            "  customer_id purchase_date product_category  amount_spent\n",
            "0        C001    2023-01-03      Electronics        250.00\n",
            "1        C002    2023-02-03            Books         45.50\n",
            "2        C003    2023-03-03    Home & Garden        150.75\n",
            "3        C001    2023-04-03            Books         20.00\n",
            "4        C002    2023-05-03      Electronics        525.00\n",
            "7        C005    2023-07-03           Beauty         75.00\n"
          ]
        }
      ]
    }
  ]
}